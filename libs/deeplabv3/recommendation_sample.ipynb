{
 "cells": [
  {
   "cell_type": "code",
   "execution_count": 2,
   "metadata": {
    "scrolled": true
   },
   "outputs": [],
   "source": [
    "import numpy as np\n",
    "from PIL import Image\n",
    "from matplotlib import pyplot as plt\n",
    "import glob\n",
    "from model import Deeplabv3\n",
    "\n",
    "# Generates labels using most basic setup.  Supports various image sizes.  Returns image labels in same format\n",
    "# as original image.  Normalization matches MobileNetV2\n",
    "image_dir = \"./images\"\n",
    "for img_path in glob.glob(image_dir+\"/*\"):\n",
    "    trained_image_width=512 \n",
    "    self.mean_subtraction_value=127.5\n",
    "    image = np.array(Image.open(img_path))\n",
    "\n",
    "    # resize to max dimension of images from training dataset\n",
    "    w, h, _ = image.shape\n",
    "    ratio = float(trained_image_width) / np.max([w, h])\n",
    "    resized_image = np.array(Image.fromarray(image.astype('uint8')).resize((int(ratio * h), int(ratio * w))))\n",
    "\n",
    "    # apply normalization for trained dataset images\n",
    "    resized_image = (resized_image / self.mean_subtraction_value) - 1.\n",
    "\n",
    "    # pad array to square image to match training images\n",
    "    pad_x = int(trained_image_width - resized_image.shape[0])\n",
    "    pad_y = int(trained_image_width - resized_image.shape[1])\n",
    "    resized_image = np.pad(resized_image, ((0, pad_x), (0, pad_y), (0, 0)), mode='constant')\n",
    "\n",
    "    # make prediction\n",
    "    deeplab_model = Deeplabv3()\n",
    "    res = deeplab_model.predict(np.expand_dims(resized_image, 0))\n",
    "    mask = np.argmax(res.squeeze(), -1) == 15  # region of person => 1, background => 0\n",
    "\n",
    "    # remove padding and resize back to original image\n",
    "    if pad_x > 0:\n",
    "        mask = mask[:-pad_x]\n",
    "    if pad_y > 0:\n",
    "        mask = mask[:, :-pad_y]\n",
    "    mask = np.array(Image.fromarray(mask.astype('uint8')).resize((h, w)))\n",
    "    \n",
    "    with_mask = image * np.stack([mask, mask, mask], 2)\n",
    "\n",
    "#     plt.imshow(mask)\n",
    "#     plt.show()\n",
    "    plt.imshow(image)\n",
    "    plt.show()\n",
    "    plt.imshow(with_mask)\n",
    "    plt.show()"
   ]
  },
  {
   "cell_type": "code",
   "execution_count": 42,
   "metadata": {},
   "outputs": [
    {
     "data": {
      "text/plain": [
       "(2048,)"
      ]
     },
     "execution_count": 42,
     "metadata": {},
     "output_type": "execute_result"
    }
   ],
   "source": [
    "from img2vec_keras import Img2Vec\n",
    "img2vec = Img2Vec()\n",
    "x = img2vec.get_vec(img_path)\n",
    "x.shape"
   ]
  },
  {
   "cell_type": "code",
   "execution_count": null,
   "metadata": {},
   "outputs": [],
   "source": []
  }
 ],
 "metadata": {
  "kernelspec": {
   "display_name": "Python 3",
   "language": "python",
   "name": "python3"
  },
  "language_info": {
   "codemirror_mode": {
    "name": "ipython",
    "version": 3
   },
   "file_extension": ".py",
   "mimetype": "text/x-python",
   "name": "python",
   "nbconvert_exporter": "python",
   "pygments_lexer": "ipython3",
   "version": "3.7.4"
  }
 },
 "nbformat": 4,
 "nbformat_minor": 2
}
