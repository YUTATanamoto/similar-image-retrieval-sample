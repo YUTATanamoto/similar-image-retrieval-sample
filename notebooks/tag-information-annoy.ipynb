{
 "cells": [
  {
   "cell_type": "markdown",
   "metadata": {},
   "source": [
    "# タグ情報を利用した類似画像検索"
   ]
  },
  {
   "cell_type": "code",
   "execution_count": null,
   "metadata": {},
   "outputs": [],
   "source": [
    "import os\n",
    "import sys\n",
    "import glob\n",
    "import numpy as np\n",
    "from PIL import Image\n",
    "from tqdm import tqdm\n",
    "import mysql.connector\n",
    "import tensorflow as tf\n",
    "import tensorflow_hub as hub\n",
    "from annoy import AnnoyIndex\n",
    "import matplotlib.pyplot as plt"
   ]
  },
  {
   "cell_type": "code",
   "execution_count": null,
   "metadata": {},
   "outputs": [],
   "source": [
    "host = \"localhost\"\n",
    "port = 3306\n",
    "user = \"root\"\n",
    "password = \"humaninterface\"\n",
    "conn = mysql.connector.connect(\n",
    "    host = host,\n",
    "    port = port,\n",
    "    user = user,\n",
    "    password = password\n",
    ")\n",
    "image_dir = \"/Volumes/Samsung_T5/19MH228/similar-image-retrieval/images/images_season_id_22\"\n",
    "image_ext = '.jpg'\n",
    "image_path_list = glob.glob(image_dir + '/*' + image_ext)\n",
    "image_ids = np.array([int(os.path.splitext(os.path.basename(image_path))[0]) for image_path in image_path_list])"
   ]
  },
  {
   "cell_type": "code",
   "execution_count": null,
   "metadata": {},
   "outputs": [],
   "source": [
    "cur = conn.cursor(buffered=True)\n",
    "\n",
    "distinct_color_statement = 'SELECT DISTINCT color FROM fp_production.image_details;'\n",
    "cur.execute(distinct_color_statement)\n",
    "distinct_colors = [row[0] for row in cur.fetchall()]\n",
    "distinct_colors = distinct_colors if '' in distinct_colors else distinct_colors + ['']\n",
    "color_dict = {}\n",
    "for i, color in enumerate(distinct_colors):\n",
    "    color_dict[color] = i \n",
    "\n",
    "distinct_materials_statement = 'SELECT DISTINCT material FROM fp_production.image_details;'\n",
    "cur.execute(distinct_materials_statement)\n",
    "distinct_materials = [row[0] for row in cur.fetchall()]\n",
    "distinct_materials = distinct_materials if '' in distinct_materials else distinct_materials + ['']\n",
    "material_dict = {}\n",
    "for i, material in enumerate(distinct_materials):\n",
    "    material_dict[material] = i \n",
    "\n",
    "distinct_patterns_statement = 'SELECT DISTINCT pattern FROM fp_production.image_details;'\n",
    "cur.execute(distinct_patterns_statement)\n",
    "distinct_patterns = [row[0] for row in cur.fetchall()]\n",
    "distinct_patterns = distinct_patterns if '' in distinct_patterns else distinct_patterns + ['']\n",
    "pattern_dict = {}\n",
    "for i, pattern in enumerate(distinct_patterns):\n",
    "    pattern_dict[pattern] = i \n",
    "\n",
    "distinct_item_categories_statement = 'SELECT DISTINCT item_category FROM fp_production.image_details;'\n",
    "cur.execute(distinct_item_categories_statement)\n",
    "distinct_item_categories = [row[0] for row in cur.fetchall()]\n",
    "distinct_item_categories = distinct_item_categories if '' in distinct_item_categories else distinct_item_categories + ['']\n",
    "item_category_dict = {}\n",
    "for i, item_category in enumerate(distinct_item_categories):\n",
    "    item_category_dict[item_category] = i \n",
    "\n",
    "distinct_item_groups_statement = 'SELECT DISTINCT item_group FROM fp_production.image_details;'\n",
    "cur.execute(distinct_item_groups_statement)\n",
    "distinct_item_groups = [row[0] for row in cur.fetchall()]\n",
    "distinct_item_groups = distinct_item_groups if '' in distinct_item_groups else distinct_item_groups + ['']\n",
    "item_group_dict = {}\n",
    "for i, item_group in enumerate(distinct_item_groups):\n",
    "    item_group_dict[item_group] = i \n",
    "\n",
    "distinct_items_statement = 'SELECT DISTINCT item FROM fp_production.image_details;'\n",
    "cur.execute(distinct_items_statement)\n",
    "distinct_items = [row[0] for row in cur.fetchall()]\n",
    "distinct_items = distinct_items if '' in distinct_items else distinct_items + ['']\n",
    "item_dict = {}\n",
    "for i, item in enumerate(distinct_items):\n",
    "    item_dict[item] = i \n",
    "    \n",
    "item_information_dict = {\n",
    "    'color': color_dict,\n",
    "    'material': material_dict,\n",
    "    'pattern': pattern_dict,\n",
    "    'item_category': item_category_dict,\n",
    "    'item_group': item_group_dict,\n",
    "    'item': item_dict\n",
    "}\n",
    "print('item_information_dict -> {}\\n'.format(item_information_dict))"
   ]
  },
  {
   "cell_type": "code",
   "execution_count": null,
   "metadata": {},
   "outputs": [],
   "source": [
    "count = 0\n",
    "for image_id in image_ids:\n",
    "    print('image_id -> {}'.format(image_id))\n",
    "    statement = \"SELECT color, material, pattern, item_category, item_group, item, image_id FROM fp_production.image_details WHERE image_id = '{}';\".format(image_id)\n",
    "    cur = conn.cursor(buffered=True)\n",
    "    cur.execute(statement)\n",
    "    rows = cur.fetchall()\n",
    "    for row in rows:\n",
    "        color, material, pattern, item_category, item_group, item, image_id = row\n",
    "        color_id = item_information_dict['color'][color]\n",
    "        material_id = item_information_dict['material'][material]\n",
    "        pattern_id = item_information_dict['pattern'][pattern]\n",
    "        item_category_id = item_information_dict['item_category'][item_category]\n",
    "        item_group_id = item_information_dict['item_group'][item_group]\n",
    "        item_id = item_information_dict['item'][item]\n",
    "        item_vector = [color_id, material_id, pattern_id, item_category_id, item_group_id, item_id]\n",
    "        print('\\titem_vector -> {}'.format(item_vector))\n",
    "        count += 1"
   ]
  },
  {
   "cell_type": "code",
   "execution_count": null,
   "metadata": {},
   "outputs": [],
   "source": [
    "collection_news_id_statement = 'SELECT id FROM fp_production.news WHERE category_sub=\"collection\";'\n",
    "cur.execute(collection_news_id_statement)\n",
    "collection_news_ids = [row[0] for row in cur.fetchall()]\n",
    "collection_image_id_statement = 'SELECT id FROM fp_production.images WHERE new_id IN ({});'.format(','.join([str(news_id) for news_id in collection_news_ids]))\n",
    "cur.execute(collection_image_id_statement)\n",
    "collection_image_ids = [row[0] for row in cur.fetchall()]\n",
    "len(collection_image_ids)"
   ]
  },
  {
   "cell_type": "code",
   "execution_count": null,
   "metadata": {},
   "outputs": [],
   "source": [
    "distinct_image_id_statement = 'SELECT DISTINCT image_id FROM fp_production.image_details;'\n",
    "cur.execute(distinct_image_id_statement)\n",
    "distinct_image_ids = [row[0] for row in cur.fetchall()]\n",
    "len(distinct_image_ids)"
   ]
  }
 ],
 "metadata": {
  "kernelspec": {
   "display_name": "Python 3",
   "language": "python",
   "name": "python3"
  },
  "language_info": {
   "codemirror_mode": {
    "name": "ipython",
    "version": 3
   },
   "file_extension": ".py",
   "mimetype": "text/x-python",
   "name": "python",
   "nbconvert_exporter": "python",
   "pygments_lexer": "ipython3",
   "version": "3.8.5"
  }
 },
 "nbformat": 4,
 "nbformat_minor": 4
}
